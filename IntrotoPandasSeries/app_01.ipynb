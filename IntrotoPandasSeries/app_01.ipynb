{
 "cells": [
  {
   "cell_type": "code",
   "execution_count": 2,
   "id": "09035aed",
   "metadata": {},
   "outputs": [],
   "source": [
    "import pandas as pd"
   ]
  },
  {
   "cell_type": "code",
   "execution_count": 3,
   "id": "1e083e2b",
   "metadata": {},
   "outputs": [],
   "source": [
    "companies= ['Google', 'Facebook', 'Amazon', 'Netflix', 'Samsung', 'Huawei', 'Dell Technologies',\n",
    "    'Meta', 'Sony', 'Hitachi', 'Intel',\n",
    "    'IBM', 'Tencent', 'Panasonic']"
   ]
  },
  {
   "cell_type": "code",
   "execution_count": 4,
   "id": "82a659b3",
   "metadata": {},
   "outputs": [],
   "source": [
    "s= pd.Series([274515, 200734, 182527, 181945, 143015,\n",
    "    129184, 92224, 85965, 84893, 82345,\n",
    "    77867, 73620, 69864, 63191], index=companies, name='Top Technology Company by revenue')"
   ]
  },
  {
   "cell_type": "code",
   "execution_count": 5,
   "id": "383b96a2",
   "metadata": {},
   "outputs": [
    {
     "data": {
      "text/plain": [
       "Google               274515\n",
       "Facebook             200734\n",
       "Amazon               182527\n",
       "Netflix              181945\n",
       "Samsung              143015\n",
       "Huawei               129184\n",
       "Dell Technologies     92224\n",
       "Meta                  85965\n",
       "Sony                  84893\n",
       "Hitachi               82345\n",
       "Intel                 77867\n",
       "IBM                   73620\n",
       "Tencent               69864\n",
       "Panasonic             63191\n",
       "Name: Top Technology Company by revenue, dtype: int64"
      ]
     },
     "execution_count": 5,
     "metadata": {},
     "output_type": "execute_result"
    }
   ],
   "source": [
    "s"
   ]
  },
  {
   "cell_type": "code",
   "execution_count": 10,
   "id": "53672b87",
   "metadata": {},
   "outputs": [],
   "source": [
    "ind=['a','b','c']\n",
    "s=pd.Series([9,11,-5],index=ind, name='My First Series')"
   ]
  },
  {
   "cell_type": "code",
   "execution_count": 6,
   "id": "3b8a36a8",
   "metadata": {},
   "outputs": [
    {
     "data": {
      "text/plain": [
       "array([274515, 200734, 182527, 181945, 143015, 129184,  92224,  85965,\n",
       "        84893,  82345,  77867,  73620,  69864,  63191], dtype=int64)"
      ]
     },
     "execution_count": 6,
     "metadata": {},
     "output_type": "execute_result"
    }
   ],
   "source": [
    "s.values"
   ]
  },
  {
   "cell_type": "code",
   "execution_count": 7,
   "id": "62cb29d2",
   "metadata": {},
   "outputs": [
    {
     "data": {
      "text/plain": [
       "Index(['Google', 'Facebook', 'Amazon', 'Netflix', 'Samsung', 'Huawei',\n",
       "       'Dell Technologies', 'Meta', 'Sony', 'Hitachi', 'Intel', 'IBM',\n",
       "       'Tencent', 'Panasonic'],\n",
       "      dtype='object')"
      ]
     },
     "execution_count": 7,
     "metadata": {},
     "output_type": "execute_result"
    }
   ],
   "source": [
    "s.index"
   ]
  },
  {
   "cell_type": "code",
   "execution_count": 8,
   "id": "121fc30f",
   "metadata": {},
   "outputs": [
    {
     "data": {
      "text/plain": [
       "'Top Technology Company by revenue'"
      ]
     },
     "execution_count": 8,
     "metadata": {},
     "output_type": "execute_result"
    }
   ],
   "source": [
    "s.name"
   ]
  },
  {
   "cell_type": "markdown",
   "id": "ab2be754",
   "metadata": {},
   "source": [
    "the type associated with the values"
   ]
  },
  {
   "cell_type": "code",
   "execution_count": 9,
   "id": "54e4e198",
   "metadata": {},
   "outputs": [
    {
     "data": {
      "text/plain": [
       "dtype('int64')"
      ]
     },
     "execution_count": 9,
     "metadata": {},
     "output_type": "execute_result"
    }
   ],
   "source": [
    "s.dtype"
   ]
  },
  {
   "cell_type": "code",
   "execution_count": 10,
   "id": "99b63907",
   "metadata": {},
   "outputs": [
    {
     "data": {
      "text/plain": [
       "14"
      ]
     },
     "execution_count": 10,
     "metadata": {},
     "output_type": "execute_result"
    }
   ],
   "source": [
    "s.size"
   ]
  },
  {
   "cell_type": "code",
   "execution_count": 11,
   "id": "3206e5e9",
   "metadata": {},
   "outputs": [
    {
     "data": {
      "text/plain": [
       "14"
      ]
     },
     "execution_count": 11,
     "metadata": {},
     "output_type": "execute_result"
    }
   ],
   "source": [
    "len(s)"
   ]
  },
  {
   "cell_type": "code",
   "execution_count": 15,
   "id": "5226ca83",
   "metadata": {},
   "outputs": [
    {
     "data": {
      "text/plain": [
       "124420.64285714286"
      ]
     },
     "execution_count": 15,
     "metadata": {},
     "output_type": "execute_result"
    }
   ],
   "source": [
    "s.mean()"
   ]
  },
  {
   "cell_type": "code",
   "execution_count": 14,
   "id": "905f3afa",
   "metadata": {},
   "outputs": [
    {
     "data": {
      "text/plain": [
       "count        14.000000\n",
       "mean     124420.642857\n",
       "std       63686.481231\n",
       "min       63191.000000\n",
       "25%       78986.500000\n",
       "50%       89094.500000\n",
       "75%      172212.500000\n",
       "max      274515.000000\n",
       "Name: Top Technology Company by revenue, dtype: float64"
      ]
     },
     "execution_count": 14,
     "metadata": {},
     "output_type": "execute_result"
    }
   ],
   "source": [
    "s.describe()"
   ]
  },
  {
   "cell_type": "code",
   "execution_count": 16,
   "id": "e5a75750",
   "metadata": {},
   "outputs": [
    {
     "data": {
      "text/plain": [
       "89094.5"
      ]
     },
     "execution_count": 16,
     "metadata": {},
     "output_type": "execute_result"
    }
   ],
   "source": [
    "s.median()"
   ]
  },
  {
   "cell_type": "code",
   "execution_count": 17,
   "id": "2ee01e12",
   "metadata": {},
   "outputs": [
    {
     "data": {
      "text/plain": [
       "63686.48123135607"
      ]
     },
     "execution_count": 17,
     "metadata": {},
     "output_type": "execute_result"
    }
   ],
   "source": [
    "s.std()"
   ]
  },
  {
   "cell_type": "code",
   "execution_count": 18,
   "id": "016ee5d9",
   "metadata": {},
   "outputs": [
    {
     "data": {
      "text/plain": [
       "(63191, 274515)"
      ]
     },
     "execution_count": 18,
     "metadata": {},
     "output_type": "execute_result"
    }
   ],
   "source": [
    "s.min(), s.max()"
   ]
  },
  {
   "cell_type": "code",
   "execution_count": 19,
   "id": "9dcaa7ba",
   "metadata": {},
   "outputs": [
    {
     "data": {
      "text/plain": [
       "172212.5"
      ]
     },
     "execution_count": 19,
     "metadata": {},
     "output_type": "execute_result"
    }
   ],
   "source": [
    "s.quantile(0.75)"
   ]
  },
  {
   "cell_type": "code",
   "execution_count": 22,
   "id": "a277ca17",
   "metadata": {},
   "outputs": [
    {
     "data": {
      "text/plain": [
       "Panasonic             63191\n",
       "Tencent               69864\n",
       "IBM                   73620\n",
       "Intel                 77867\n",
       "Hitachi               82345\n",
       "Sony                  84893\n",
       "Meta                  85965\n",
       "Dell Technologies     92224\n",
       "Huawei               129184\n",
       "Samsung              143015\n",
       "Netflix              181945\n",
       "Amazon               182527\n",
       "Facebook             200734\n",
       "Google               274515\n",
       "Name: Top Technology Company by revenue, dtype: int64"
      ]
     },
     "execution_count": 22,
     "metadata": {},
     "output_type": "execute_result"
    }
   ],
   "source": [
    "s.sort_values()"
   ]
  },
  {
   "cell_type": "markdown",
   "id": "04e7ad7a",
   "metadata": {},
   "source": [
    "Sorting by index (lexicographically by company's name), notice it's in ascending mode"
   ]
  },
  {
   "cell_type": "code",
   "execution_count": 23,
   "id": "e0a2cd6e",
   "metadata": {},
   "outputs": [
    {
     "data": {
      "text/plain": [
       "Amazon               182527\n",
       "Dell Technologies     92224\n",
       "Facebook             200734\n",
       "Google               274515\n",
       "Hitachi               82345\n",
       "Huawei               129184\n",
       "IBM                   73620\n",
       "Intel                 77867\n",
       "Meta                  85965\n",
       "Netflix              181945\n",
       "Panasonic             63191\n",
       "Samsung              143015\n",
       "Sony                  84893\n",
       "Tencent               69864\n",
       "Name: Top Technology Company by revenue, dtype: int64"
      ]
     },
     "execution_count": 23,
     "metadata": {},
     "output_type": "execute_result"
    }
   ],
   "source": [
    "s.sort_index()"
   ]
  }
 ],
 "metadata": {
  "kernelspec": {
   "display_name": "prp_class",
   "language": "python",
   "name": "prp_class"
  },
  "language_info": {
   "codemirror_mode": {
    "name": "ipython",
    "version": 3
   },
   "file_extension": ".py",
   "mimetype": "text/x-python",
   "name": "python",
   "nbconvert_exporter": "python",
   "pygments_lexer": "ipython3",
   "version": "3.12.7"
  }
 },
 "nbformat": 4,
 "nbformat_minor": 5
}
