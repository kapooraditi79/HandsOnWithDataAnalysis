{
 "cells": [
  {
   "cell_type": "code",
   "execution_count": 1,
   "id": "9ab09a65",
   "metadata": {},
   "outputs": [],
   "source": [
    "import pandas as pd"
   ]
  },
  {
   "cell_type": "code",
   "execution_count": 2,
   "id": "1702d109",
   "metadata": {},
   "outputs": [],
   "source": [
    "companies = [\n",
    "    'Apple', 'Samsung', 'Alphabet', 'Foxconn',\n",
    "    'Microsoft', 'Huawei', 'Dell Technologies',\n",
    "    'Meta', 'Sony', 'Hitachi', 'Intel',\n",
    "    'IBM', 'Tencent', 'Panasonic'\n",
    "]"
   ]
  },
  {
   "cell_type": "code",
   "execution_count": 3,
   "id": "eaea1335",
   "metadata": {},
   "outputs": [],
   "source": [
    "revenue_in_millions = pd.Series([\n",
    "    274515, 200734, 182527, 181945, 143015,\n",
    "    129184, 92224, 85965, 84893, 82345,\n",
    "    77867, 73620, 69864, 63191],\n",
    "    index=companies,\n",
    "    name=\"Top Technology Companies by Revenue\")\n",
    "    "
   ]
  },
  {
   "cell_type": "markdown",
   "id": "f9391d49",
   "metadata": {},
   "source": [
    "We'll now compute the revenue in Billions"
   ]
  },
  {
   "cell_type": "code",
   "execution_count": 5,
   "id": "6192c682",
   "metadata": {},
   "outputs": [
    {
     "data": {
      "text/plain": [
       "Apple                274.515\n",
       "Samsung              200.734\n",
       "Alphabet             182.527\n",
       "Foxconn              181.945\n",
       "Microsoft            143.015\n",
       "Huawei               129.184\n",
       "Dell Technologies     92.224\n",
       "Meta                  85.965\n",
       "Sony                  84.893\n",
       "Hitachi               82.345\n",
       "Intel                 77.867\n",
       "IBM                   73.620\n",
       "Tencent               69.864\n",
       "Panasonic             63.191\n",
       "Name: Top Technology Companies by Revenue, dtype: float64"
      ]
     },
     "execution_count": 5,
     "metadata": {},
     "output_type": "execute_result"
    }
   ],
   "source": [
    "revenue_in_billions = revenue_in_millions / 1000\n",
    "revenue_in_billions"
   ]
  },
  {
   "cell_type": "markdown",
   "id": "0b4190b9",
   "metadata": {},
   "source": [
    "Subtract $50B from all companies in revenue_in_billions"
   ]
  },
  {
   "cell_type": "code",
   "execution_count": 6,
   "id": "69d23bd6",
   "metadata": {},
   "outputs": [],
   "source": [
    "revenue_recession = revenue_in_billions-50"
   ]
  },
  {
   "cell_type": "markdown",
   "id": "0f1d6b55",
   "metadata": {},
   "source": [
    "Create a new series expressing revenue in dollars (units)"
   ]
  },
  {
   "cell_type": "code",
   "execution_count": 7,
   "id": "ae6097fb",
   "metadata": {},
   "outputs": [],
   "source": [
    "revenue_in_dollars = revenue_in_billions*1_000_000_000\n"
   ]
  },
  {
   "cell_type": "markdown",
   "id": "ee1c45af",
   "metadata": {},
   "source": [
    "operations between the series"
   ]
  },
  {
   "cell_type": "code",
   "execution_count": 9,
   "id": "a24b2784",
   "metadata": {},
   "outputs": [
    {
     "data": {
      "text/plain": [
       "Apple                0.91\n",
       "Samsung              0.93\n",
       "Alphabet             0.98\n",
       "Foxconn              0.97\n",
       "Microsoft            0.99\n",
       "Huawei               0.89\n",
       "Dell Technologies    0.87\n",
       "Meta                 0.82\n",
       "Sony                 0.93\n",
       "Hitachi              0.93\n",
       "Intel                0.89\n",
       "IBM                  0.97\n",
       "Tencent              0.97\n",
       "Panasonic            0.94\n",
       "dtype: float64"
      ]
     },
     "execution_count": 9,
     "metadata": {},
     "output_type": "execute_result"
    }
   ],
   "source": [
    "\n",
    "recession_impact = pd.Series([\n",
    "    0.91, 0.93, 0.98, 0.97, 0.99, 0.89, 0.87,\n",
    "    0.82, 0.93, 0.93, 0.89, 0.97, 0.97, 0.94], index=companies)\n",
    "recession_impact"
   ]
  },
  {
   "cell_type": "code",
   "execution_count": 10,
   "id": "452b6234",
   "metadata": {},
   "outputs": [
    {
     "data": {
      "text/plain": [
       "Apple                249808.65\n",
       "Samsung              186682.62\n",
       "Alphabet             178876.46\n",
       "Foxconn              176486.65\n",
       "Microsoft            141584.85\n",
       "Huawei               114973.76\n",
       "Dell Technologies     80234.88\n",
       "Meta                  70491.30\n",
       "Sony                  78950.49\n",
       "Hitachi               76580.85\n",
       "Intel                 69301.63\n",
       "IBM                   71411.40\n",
       "Tencent               67768.08\n",
       "Panasonic             59399.54\n",
       "dtype: float64"
      ]
     },
     "execution_count": 10,
     "metadata": {},
     "output_type": "execute_result"
    }
   ],
   "source": [
    "revenue_in_millions * recession_impact"
   ]
  },
  {
   "cell_type": "code",
   "execution_count": 11,
   "id": "8c1e73cf",
   "metadata": {},
   "outputs": [
    {
     "data": {
      "text/plain": [
       "Apple                24706.35\n",
       "Samsung              14051.38\n",
       "Alphabet              3650.54\n",
       "Foxconn               5458.35\n",
       "Microsoft             1430.15\n",
       "Huawei               14210.24\n",
       "Dell Technologies    11989.12\n",
       "Meta                 15473.70\n",
       "Sony                  5942.51\n",
       "Hitachi               5764.15\n",
       "Intel                 8565.37\n",
       "IBM                   2208.60\n",
       "Tencent               2095.92\n",
       "Panasonic             3791.46\n",
       "dtype: float64"
      ]
     },
     "execution_count": 11,
     "metadata": {},
     "output_type": "execute_result"
    }
   ],
   "source": [
    "# Absolute impact in Millions\n",
    "revenue_in_millions - (revenue_in_millions * recession_impact)"
   ]
  },
  {
   "cell_type": "code",
   "execution_count": null,
   "id": "02b91fb4",
   "metadata": {},
   "outputs": [],
   "source": []
  }
 ],
 "metadata": {
  "kernelspec": {
   "display_name": "prp_class",
   "language": "python",
   "name": "prp_class"
  },
  "language_info": {
   "codemirror_mode": {
    "name": "ipython",
    "version": 3
   },
   "file_extension": ".py",
   "mimetype": "text/x-python",
   "name": "python",
   "nbconvert_exporter": "python",
   "pygments_lexer": "ipython3",
   "version": "3.12.7"
  }
 },
 "nbformat": 4,
 "nbformat_minor": 5
}
