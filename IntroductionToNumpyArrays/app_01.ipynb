{
 "cells": [
  {
   "cell_type": "code",
   "execution_count": 2,
   "id": "9ca89150",
   "metadata": {},
   "outputs": [],
   "source": [
    "import numpy as np"
   ]
  },
  {
   "cell_type": "code",
   "execution_count": null,
   "id": "5e38d890",
   "metadata": {},
   "outputs": [
    {
     "name": "stdout",
     "output_type": "stream",
     "text": [
      "[1 2 3 4 5]\n"
     ]
    }
   ],
   "source": [
    "numpy_array = np.array([1, 2, 3, 4, 5])\n",
    "print(numpy_array)"
   ]
  },
  {
   "cell_type": "code",
   "execution_count": 4,
   "id": "14067285",
   "metadata": {},
   "outputs": [
    {
     "name": "stdout",
     "output_type": "stream",
     "text": [
      "[[20 25 18]\n",
      " [22 27 19]\n",
      " [23 17 21]]\n"
     ]
    }
   ],
   "source": [
    "# Two dimensional Numpy array\n",
    "monthly_temps = np.array([[20, 25, 18], [22, 27, 19], [23, 17, 21]])\n",
    "print(monthly_temps)"
   ]
  },
  {
   "cell_type": "code",
   "execution_count": 5,
   "id": "2475fe28",
   "metadata": {},
   "outputs": [
    {
     "name": "stdout",
     "output_type": "stream",
     "text": [
      "Multidimensional Array:\n",
      " [[1 2 3]\n",
      " [4 5 6]]\n"
     ]
    }
   ],
   "source": [
    "multi_list = [[1, 2, 3], [4, 5, 6]]\n",
    "\n",
    "# Convert the list to a 2D NumPy array\n",
    "multi_array = np.array(multi_list)\n",
    "\n",
    "# Print the array\n",
    "print(\"Multidimensional Array:\\n\", multi_array)"
   ]
  },
  {
   "cell_type": "markdown",
   "id": "4ff176ae",
   "metadata": {},
   "source": [
    "summing up two numpy lists"
   ]
  },
  {
   "cell_type": "code",
   "execution_count": 6,
   "id": "b0a826ec",
   "metadata": {},
   "outputs": [],
   "source": [
    "list_1 = [[1, 2, 3], [4, 5, 6], [7, 8, 9]]\n",
    "\n",
    "list_2 = [[9, 8, 7], [6, 5, 4], [3, 2, 1]]\n",
    "\n",
    "sum_array = np.array(list_1)+np.array(list_2)"
   ]
  },
  {
   "cell_type": "markdown",
   "id": "a0f402fb",
   "metadata": {},
   "source": [
    " Create a 1-dimensional NumPy array that starts at 10 and goes up to (but does not include) 50, with each value increasing by 2."
   ]
  },
  {
   "cell_type": "code",
   "execution_count": 7,
   "id": "50e973cf",
   "metadata": {},
   "outputs": [],
   "source": [
    "array_1d=np.arange(10,50,2)"
   ]
  },
  {
   "cell_type": "markdown",
   "id": "a4d77558",
   "metadata": {},
   "source": [
    "Create an array containing 11 elements that are evenly spaced between 0 and 10 (inclusive)."
   ]
  },
  {
   "cell_type": "code",
   "execution_count": 8,
   "id": "fc496a60",
   "metadata": {},
   "outputs": [
    {
     "data": {
      "text/plain": [
       "array([ 0.,  1.,  2.,  3.,  4.,  5.,  6.,  7.,  8.,  9., 10.])"
      ]
     },
     "execution_count": 8,
     "metadata": {},
     "output_type": "execute_result"
    }
   ],
   "source": [
    "evenly_spaced_array= np.linspace(0,10,11)\n",
    "evenly_spaced_array"
   ]
  },
  {
   "cell_type": "markdown",
   "id": "61d9b807",
   "metadata": {},
   "source": [
    "slicing and indexing"
   ]
  },
  {
   "cell_type": "code",
   "execution_count": 9,
   "id": "d80026be",
   "metadata": {},
   "outputs": [
    {
     "name": "stdout",
     "output_type": "stream",
     "text": [
      "First three elements: [15 22 30]\n",
      "Elements from index 2 to 4: [30 38 45]\n",
      "Every second element: [15 30 45]\n"
     ]
    }
   ],
   "source": [
    "myArray = np.array([15, 22, 30, 38, 45])\n",
    "# Slicing the array\n",
    "print(\"First three elements:\", myArray[:3]) \n",
    "print(\"Elements from index 2 to 4:\", myArray[2:5])  \n",
    "print(\"Every second element:\", myArray[::2]) "
   ]
  },
  {
   "cell_type": "markdown",
   "id": "191be2cd",
   "metadata": {},
   "source": [
    "Boolean Indexing"
   ]
  },
  {
   "cell_type": "code",
   "execution_count": 10,
   "id": "0b6d51e9",
   "metadata": {},
   "outputs": [
    {
     "name": "stdout",
     "output_type": "stream",
     "text": [
      "Cool days (18°C or below): [15.7 12.3]\n"
     ]
    }
   ],
   "source": [
    "temperatures = np.array([18.5, 24.2, 15.7, 21.9, 27.1, 12.3])\n",
    "\n",
    "# Find days with temperatures below 18 degrees Celsius (inclusive)\n",
    "cool_days = temperatures[temperatures <= 18]\n",
    "print(\"Cool days (18°C or below):\", cool_days)"
   ]
  },
  {
   "cell_type": "markdown",
   "id": "75cba0a0",
   "metadata": {},
   "source": [
    "Fancy Indexing"
   ]
  },
  {
   "cell_type": "code",
   "execution_count": 11,
   "id": "05e9af59",
   "metadata": {},
   "outputs": [
    {
     "name": "stdout",
     "output_type": "stream",
     "text": [
      "Elements at specified indices: [1 3 5]\n"
     ]
    }
   ],
   "source": [
    "array = np.array([1, 2, 3, 4, 5])\n",
    "# Fancy indexing\n",
    "indices = np.array([0, 2, 4])\n",
    "print(\"Elements at specified indices:\", array[indices])"
   ]
  },
  {
   "cell_type": "markdown",
   "id": "7d56e0e6",
   "metadata": {},
   "source": [
    "Use fancy indexing to select elements located at positions (0, 0), (1, 2), (2, 3), and (3, 1) from the array.¶"
   ]
  },
  {
   "cell_type": "code",
   "execution_count": 12,
   "id": "ec108bd4",
   "metadata": {},
   "outputs": [
    {
     "data": {
      "text/plain": [
       "array([ 1,  7, 12, 14])"
      ]
     },
     "execution_count": 12,
     "metadata": {},
     "output_type": "execute_result"
    }
   ],
   "source": [
    "array = np.array([[1, 2, 3, 4],\n",
    "                     [5, 6, 7, 8],\n",
    "                     [9, 10, 11, 12],\n",
    "                     [13, 14, 15, 16]])\n",
    "\n",
    "selected_elements=array[[0,1,2,3],[0,2,3,1]]\n",
    "selected_elements"
   ]
  },
  {
   "cell_type": "markdown",
   "id": "9284d128",
   "metadata": {},
   "source": [
    "Reshaping and Resizing the Arrays"
   ]
  },
  {
   "cell_type": "code",
   "execution_count": 14,
   "id": "e54deae6",
   "metadata": {},
   "outputs": [
    {
     "name": "stdout",
     "output_type": "stream",
     "text": [
      "Original array:\n",
      " [[1 2 3]\n",
      " [4 5 6]]\n",
      "Reshaped array:\n",
      " [[1 2]\n",
      " [3 4]\n",
      " [5 6]]\n"
     ]
    }
   ],
   "source": [
    "\n",
    "array = np.array([[1, 2, 3],\n",
    "                  [4, 5, 6]])\n",
    "\n",
    "# Reshape the array to have 3 rows and 2 columns\n",
    "reshaped_array = array.reshape(3, 2)\n",
    "\n",
    "print(\"Original array:\\n\", array)\n",
    "print(\"Reshaped array:\\n\", reshaped_array)"
   ]
  },
  {
   "cell_type": "code",
   "execution_count": 15,
   "id": "68a6a9cf",
   "metadata": {},
   "outputs": [
    {
     "name": "stdout",
     "output_type": "stream",
     "text": [
      "Original array: [1 2 3 4 5]\n",
      "Resized array: [1 2 3 4 5 1 2 3]\n"
     ]
    }
   ],
   "source": [
    "# Example\n",
    "array = np.array([1, 2, 3, 4, 5])\n",
    "\n",
    "# Resize the array to have 8 elements\n",
    "resized_array = np.resize(array, (8,))\n",
    "\n",
    "print(\"Original array:\", array)\n",
    "print(\"Resized array:\", resized_array)"
   ]
  },
  {
   "cell_type": "markdown",
   "id": "c6efe131",
   "metadata": {},
   "source": [
    "Ravel and Flatten"
   ]
  },
  {
   "cell_type": "code",
   "execution_count": 16,
   "id": "a27a59f9",
   "metadata": {},
   "outputs": [
    {
     "name": "stdout",
     "output_type": "stream",
     "text": [
      "Original 2D array:\n",
      " [[1 2 3]\n",
      " [4 5 6]]\n",
      "Raveled array: [1 2 3 4 5 6]\n",
      "Flattened array: [1 2 3 4 5 6]\n"
     ]
    }
   ],
   "source": [
    "# Example\n",
    "array_2d = np.array([[1, 2, 3],\n",
    "                     [4, 5, 6]])\n",
    "\n",
    "# Using ravel\n",
    "raveled_array = np.ravel(array_2d)\n",
    "\n",
    "# Using flatten\n",
    "flattened_array = array_2d.flatten()\n",
    "\n",
    "print(\"Original 2D array:\\n\", array_2d)\n",
    "print(\"Raveled array:\", raveled_array)\n",
    "print(\"Flattened array:\", flattened_array)"
   ]
  },
  {
   "cell_type": "markdown",
   "id": "b992957e",
   "metadata": {},
   "source": [
    "Excercise"
   ]
  },
  {
   "cell_type": "code",
   "execution_count": 17,
   "id": "52afaece",
   "metadata": {},
   "outputs": [
    {
     "name": "stdout",
     "output_type": "stream",
     "text": [
      "[[ 1  2  3  4  5  6  7  8]\n",
      " [ 9 10 11 12 13 14 15 16]\n",
      " [17 18 19 20 21 22 23 24]\n",
      " [25 26 27 28 29 30 31 32]\n",
      " [33 34 35 36 37 38 39 40]]\n"
     ]
    }
   ],
   "source": [
    "rows = 5\n",
    "cols = 8\n",
    "\n",
    "# Create the seating chart (seat numbers start at 1)\n",
    "seating_chart = np.arange(1, rows * cols + 1).reshape(rows, cols)\n",
    "\n",
    "print(seating_chart)"
   ]
  },
  {
   "cell_type": "markdown",
   "id": "7d2b01e8",
   "metadata": {},
   "source": [
    "Extract seats located in row 2 at columns 2 and 4."
   ]
  },
  {
   "cell_type": "code",
   "execution_count": 19,
   "id": "ea71cedf",
   "metadata": {},
   "outputs": [
    {
     "data": {
      "text/plain": [
       "array([10, 12])"
      ]
     },
     "execution_count": 19,
     "metadata": {},
     "output_type": "execute_result"
    }
   ],
   "source": [
    "specific_seats=seating_chart[1,[1,3]]\n",
    "specific_seats"
   ]
  },
  {
   "cell_type": "markdown",
   "id": "29630106",
   "metadata": {},
   "source": [
    "Extract all seats in row 3."
   ]
  },
  {
   "cell_type": "code",
   "execution_count": 23,
   "id": "1a2851b0",
   "metadata": {},
   "outputs": [
    {
     "data": {
      "text/plain": [
       "array([17, 18, 19, 20, 21, 22, 23, 24])"
      ]
     },
     "execution_count": 23,
     "metadata": {},
     "output_type": "execute_result"
    }
   ],
   "source": [
    "entire_row=seating_chart[2,:]\n",
    "entire_row"
   ]
  },
  {
   "cell_type": "markdown",
   "id": "e4bb42b8",
   "metadata": {},
   "source": [
    "Extract all seats in column 5."
   ]
  },
  {
   "cell_type": "code",
   "execution_count": 22,
   "id": "0b09d6d5",
   "metadata": {},
   "outputs": [
    {
     "data": {
      "text/plain": [
       "array([ 5, 13, 21, 29, 37])"
      ]
     },
     "execution_count": 22,
     "metadata": {},
     "output_type": "execute_result"
    }
   ],
   "source": [
    "entire_column=seating_chart[:,4]\n",
    "entire_column"
   ]
  }
 ],
 "metadata": {
  "kernelspec": {
   "display_name": "prp_class",
   "language": "python",
   "name": "prp_class"
  },
  "language_info": {
   "codemirror_mode": {
    "name": "ipython",
    "version": 3
   },
   "file_extension": ".py",
   "mimetype": "text/x-python",
   "name": "python",
   "nbconvert_exporter": "python",
   "pygments_lexer": "ipython3",
   "version": "3.12.7"
  }
 },
 "nbformat": 4,
 "nbformat_minor": 5
}
