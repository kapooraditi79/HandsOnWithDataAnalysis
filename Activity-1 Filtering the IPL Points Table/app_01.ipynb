{
 "cells": [
  {
   "cell_type": "code",
   "execution_count": 6,
   "id": "ebb7633a",
   "metadata": {},
   "outputs": [],
   "source": [
    "import pandas as pd\n",
    "import numpy as np"
   ]
  },
  {
   "cell_type": "code",
   "execution_count": 7,
   "id": "b77362e1",
   "metadata": {},
   "outputs": [],
   "source": [
    "df = pd.read_csv('ipl_playoffs.csv')"
   ]
  },
  {
   "cell_type": "code",
   "execution_count": 8,
   "id": "3ec90dd2",
   "metadata": {},
   "outputs": [
    {
     "data": {
      "text/html": [
       "<div>\n",
       "<style scoped>\n",
       "    .dataframe tbody tr th:only-of-type {\n",
       "        vertical-align: middle;\n",
       "    }\n",
       "\n",
       "    .dataframe tbody tr th {\n",
       "        vertical-align: top;\n",
       "    }\n",
       "\n",
       "    .dataframe thead th {\n",
       "        text-align: right;\n",
       "    }\n",
       "</style>\n",
       "<table border=\"1\" class=\"dataframe\">\n",
       "  <thead>\n",
       "    <tr style=\"text-align: right;\">\n",
       "      <th></th>\n",
       "      <th>year</th>\n",
       "      <th>pos</th>\n",
       "      <th>Team</th>\n",
       "      <th>Played</th>\n",
       "      <th>Won</th>\n",
       "      <th>Lost</th>\n",
       "      <th>Net RR</th>\n",
       "      <th>For</th>\n",
       "      <th>Against</th>\n",
       "      <th>Points</th>\n",
       "    </tr>\n",
       "  </thead>\n",
       "  <tbody>\n",
       "    <tr>\n",
       "      <th>0</th>\n",
       "      <td>2008</td>\n",
       "      <td>1</td>\n",
       "      <td>RR</td>\n",
       "      <td>14</td>\n",
       "      <td>11</td>\n",
       "      <td>3</td>\n",
       "      <td>0.632</td>\n",
       "      <td>2245/261.1</td>\n",
       "      <td>2153/270.2</td>\n",
       "      <td>22</td>\n",
       "    </tr>\n",
       "    <tr>\n",
       "      <th>1</th>\n",
       "      <td>2008</td>\n",
       "      <td>2</td>\n",
       "      <td>PBKS</td>\n",
       "      <td>14</td>\n",
       "      <td>10</td>\n",
       "      <td>4</td>\n",
       "      <td>0.509</td>\n",
       "      <td>2352/259.5</td>\n",
       "      <td>2271/265.5</td>\n",
       "      <td>20</td>\n",
       "    </tr>\n",
       "    <tr>\n",
       "      <th>2</th>\n",
       "      <td>2008</td>\n",
       "      <td>3</td>\n",
       "      <td>CSK</td>\n",
       "      <td>14</td>\n",
       "      <td>8</td>\n",
       "      <td>6</td>\n",
       "      <td>-0.192</td>\n",
       "      <td>2241/264.2</td>\n",
       "      <td>2195/253.1</td>\n",
       "      <td>16</td>\n",
       "    </tr>\n",
       "    <tr>\n",
       "      <th>3</th>\n",
       "      <td>2008</td>\n",
       "      <td>4</td>\n",
       "      <td>DD</td>\n",
       "      <td>14</td>\n",
       "      <td>7</td>\n",
       "      <td>6</td>\n",
       "      <td>0.342</td>\n",
       "      <td>2001/233.2</td>\n",
       "      <td>2031/246.4</td>\n",
       "      <td>15</td>\n",
       "    </tr>\n",
       "    <tr>\n",
       "      <th>4</th>\n",
       "      <td>2008</td>\n",
       "      <td>5</td>\n",
       "      <td>MI</td>\n",
       "      <td>14</td>\n",
       "      <td>7</td>\n",
       "      <td>7</td>\n",
       "      <td>0.570</td>\n",
       "      <td>2080/249.1</td>\n",
       "      <td>2096/269.3</td>\n",
       "      <td>14</td>\n",
       "    </tr>\n",
       "  </tbody>\n",
       "</table>\n",
       "</div>"
      ],
      "text/plain": [
       "   year  pos  Team  Played  Won  Lost  Net RR         For     Against  Points\n",
       "0  2008    1    RR      14   11     3   0.632  2245/261.1  2153/270.2      22\n",
       "1  2008    2  PBKS      14   10     4   0.509  2352/259.5  2271/265.5      20\n",
       "2  2008    3   CSK      14    8     6  -0.192  2241/264.2  2195/253.1      16\n",
       "3  2008    4    DD      14    7     6   0.342  2001/233.2  2031/246.4      15\n",
       "4  2008    5    MI      14    7     7   0.570  2080/249.1  2096/269.3      14"
      ]
     },
     "execution_count": 8,
     "metadata": {},
     "output_type": "execute_result"
    }
   ],
   "source": [
    "df.head()"
   ]
  },
  {
   "cell_type": "code",
   "execution_count": 9,
   "id": "45c6a4c5",
   "metadata": {},
   "outputs": [
    {
     "name": "stdout",
     "output_type": "stream",
     "text": [
      "<class 'pandas.core.frame.DataFrame'>\n",
      "RangeIndex: 146 entries, 0 to 145\n",
      "Data columns (total 10 columns):\n",
      " #   Column   Non-Null Count  Dtype  \n",
      "---  ------   --------------  -----  \n",
      " 0   year     146 non-null    int64  \n",
      " 1   pos      146 non-null    int64  \n",
      " 2   Team     146 non-null    object \n",
      " 3   Played   146 non-null    int64  \n",
      " 4   Won      146 non-null    int64  \n",
      " 5   Lost     146 non-null    int64  \n",
      " 6   Net RR   146 non-null    float64\n",
      " 7   For      146 non-null    object \n",
      " 8   Against  146 non-null    object \n",
      " 9   Points   146 non-null    int64  \n",
      "dtypes: float64(1), int64(6), object(3)\n",
      "memory usage: 11.5+ KB\n"
     ]
    }
   ],
   "source": [
    "df.info()"
   ]
  },
  {
   "cell_type": "code",
   "execution_count": 10,
   "id": "e029c28c",
   "metadata": {},
   "outputs": [],
   "source": [
    "# Convert columns in dataframe df into separate Series\n",
    "team_series = pd.Series(df['Team'])\n",
    "won_series = pd.Series(df['Won'])\n",
    "played_series = pd.Series(df['Played'])\n",
    "nrr_series = pd.Series(df['Net RR'])\n",
    "points_series = pd.Series(df['Points'])"
   ]
  },
  {
   "cell_type": "markdown",
   "id": "e9253dfa",
   "metadata": {},
   "source": [
    "Determine the total number of matches played by all teams using the played_series variable."
   ]
  },
  {
   "cell_type": "code",
   "execution_count": 11,
   "id": "3d9eed98",
   "metadata": {},
   "outputs": [
    {
     "data": {
      "text/plain": [
       "2080"
      ]
     },
     "execution_count": 11,
     "metadata": {},
     "output_type": "execute_result"
    }
   ],
   "source": [
    "played_series=df['Played'].sum()\n",
    "played_series"
   ]
  },
  {
   "cell_type": "markdown",
   "id": "46b703c7",
   "metadata": {},
   "source": [
    "Create a new series containing the first 3 elements of team_series and store it in the first_three_teams variable."
   ]
  },
  {
   "cell_type": "code",
   "execution_count": 12,
   "id": "3b8bd9e4",
   "metadata": {},
   "outputs": [
    {
     "data": {
      "text/plain": [
       "0      RR\n",
       "1    PBKS\n",
       "2     CSK\n",
       "Name: Team, dtype: object"
      ]
     },
     "execution_count": 12,
     "metadata": {},
     "output_type": "execute_result"
    }
   ],
   "source": [
    "first_three_teams =  df['Team'][0:3]\n",
    "first_three_teams"
   ]
  },
  {
   "cell_type": "markdown",
   "id": "08e790f8",
   "metadata": {},
   "source": [
    "Create a new series showing the difference between matches played and matches won, and store it in the win_loss_difference variable."
   ]
  },
  {
   "cell_type": "code",
   "execution_count": 13,
   "id": "c124689a",
   "metadata": {},
   "outputs": [
    {
     "data": {
      "text/plain": [
       "0       3\n",
       "1       4\n",
       "2       6\n",
       "3       7\n",
       "4       7\n",
       "       ..\n",
       "141     7\n",
       "142     7\n",
       "143     9\n",
       "144     9\n",
       "145    10\n",
       "Length: 146, dtype: int64"
      ]
     },
     "execution_count": 13,
     "metadata": {},
     "output_type": "execute_result"
    }
   ],
   "source": [
    "win_loss_difference = df['Played']-df['Won']\n",
    "win_loss_difference"
   ]
  },
  {
   "cell_type": "markdown",
   "id": "fe86128e",
   "metadata": {},
   "source": [
    "Calculate the percentage of matches won out of matches played and store the resulting series in the win_percentage_series variable."
   ]
  },
  {
   "cell_type": "code",
   "execution_count": 14,
   "id": "0ee1b8ae",
   "metadata": {},
   "outputs": [
    {
     "data": {
      "text/plain": [
       "0      78.571429\n",
       "1      71.428571\n",
       "2      57.142857\n",
       "3      50.000000\n",
       "4      50.000000\n",
       "         ...    \n",
       "141    50.000000\n",
       "142    50.000000\n",
       "143    35.714286\n",
       "144    35.714286\n",
       "145    28.571429\n",
       "Length: 146, dtype: float64"
      ]
     },
     "execution_count": 14,
     "metadata": {},
     "output_type": "execute_result"
    }
   ],
   "source": [
    "win_percentage_series = (df['Won']/df['Played'])*100\n",
    "win_percentage_series"
   ]
  },
  {
   "cell_type": "markdown",
   "id": "1d1460bb",
   "metadata": {},
   "source": [
    "Create a series of boolean values indicating whether each entry has a positive Net Run Rate, and store it in the positive_nrr_series variable."
   ]
  },
  {
   "cell_type": "code",
   "execution_count": 16,
   "id": "34207a39",
   "metadata": {},
   "outputs": [
    {
     "data": {
      "text/plain": [
       "0       True\n",
       "1       True\n",
       "2      False\n",
       "3       True\n",
       "4       True\n",
       "       ...  \n",
       "141    False\n",
       "142    False\n",
       "143    False\n",
       "144    False\n",
       "145    False\n",
       "Name: Net RR, Length: 146, dtype: bool"
      ]
     },
     "execution_count": 16,
     "metadata": {},
     "output_type": "execute_result"
    }
   ],
   "source": [
    "positive_nrr_series = df['Net RR']>0\n",
    "positive_nrr_series"
   ]
  },
  {
   "cell_type": "markdown",
   "id": "78c87ddb",
   "metadata": {},
   "source": [
    "Create a series showing the cumulative sum of points from points_series and store it in the cumulative_points_series variable."
   ]
  },
  {
   "cell_type": "code",
   "execution_count": null,
   "id": "54a07323",
   "metadata": {},
   "outputs": [],
   "source": [
    "cumulative_points_series = df['Points'].cumsum()\n",
    "#we did not use sum() as we wanted the dtype to be bool\n",
    "#sum() will return series of int64 dtype"
   ]
  },
  {
   "cell_type": "markdown",
   "id": "0a0f9e13",
   "metadata": {},
   "source": [
    "Create a function to categorize Net Run Rates (NRR) into High, Medium, or Low. Apply this function to the nrr_series and store the resulting series in the variable nrr_categories_series."
   ]
  },
  {
   "cell_type": "code",
   "execution_count": 18,
   "id": "09008966",
   "metadata": {},
   "outputs": [
    {
     "data": {
      "text/plain": [
       "0        High\n",
       "1        High\n",
       "2         Low\n",
       "3      Medium\n",
       "4        High\n",
       "        ...  \n",
       "141       Low\n",
       "142       Low\n",
       "143       Low\n",
       "144       Low\n",
       "145       Low\n",
       "Name: Net RR, Length: 146, dtype: object"
      ]
     },
     "execution_count": 18,
     "metadata": {},
     "output_type": "execute_result"
    }
   ],
   "source": [
    "def categorize_nrr(nrr):\n",
    "    if nrr >= 0.5:\n",
    "        return \"High\"\n",
    "    if nrr > 0 and nrr < 0.5:\n",
    "        return \"Medium\"\n",
    "    if nrr <= 0:\n",
    "        return \"Low\"\n",
    "\n",
    "nrr_categories_series = nrr_series.apply(categorize_nrr)\n",
    "nrr_categories_series"
   ]
  },
  {
   "cell_type": "markdown",
   "id": "29050833",
   "metadata": {},
   "source": [
    "Which operation would result in a Series with the same index as the original, but all values increased by 10?"
   ]
  },
  {
   "cell_type": "code",
   "execution_count": null,
   "id": "3a7c3635",
   "metadata": {},
   "outputs": [],
   "source": [
    "# #opt-1\n",
    "''' series.apply(lambda x: x + 10) '''\n",
    "\n",
    "# #opt-2\n",
    "''' series.add(10)'''\n",
    "\n",
    "# #opt-3\n",
    "'''series + 10'''"
   ]
  },
  {
   "cell_type": "markdown",
   "id": "016dbecb",
   "metadata": {},
   "source": [
    "A FEW QUESTIONS TO TRY ON YOUR OWN"
   ]
  },
  {
   "cell_type": "markdown",
   "id": "98d88d5a",
   "metadata": {},
   "source": [
    "What's the output of value_counts() when applied to the Team column?"
   ]
  },
  {
   "cell_type": "markdown",
   "id": "096ff456",
   "metadata": {},
   "source": [
    "Which method would you use to find the highest value in the Series?"
   ]
  },
  {
   "cell_type": "markdown",
   "id": "77b5185b",
   "metadata": {},
   "source": [
    "What does the idxmax() return for the Points column?"
   ]
  },
  {
   "cell_type": "markdown",
   "id": "5e7813fc",
   "metadata": {},
   "source": [
    "What does rank() do when applied to the Points column?"
   ]
  },
  {
   "cell_type": "markdown",
   "id": "d423dc6e",
   "metadata": {},
   "source": [
    "Determine the total number of matches played by all teams using the played_series variable."
   ]
  }
 ],
 "metadata": {
  "kernelspec": {
   "display_name": "prp_class",
   "language": "python",
   "name": "prp_class"
  },
  "language_info": {
   "codemirror_mode": {
    "name": "ipython",
    "version": 3
   },
   "file_extension": ".py",
   "mimetype": "text/x-python",
   "name": "python",
   "nbconvert_exporter": "python",
   "pygments_lexer": "ipython3",
   "version": "3.12.7"
  }
 },
 "nbformat": 4,
 "nbformat_minor": 5
}
