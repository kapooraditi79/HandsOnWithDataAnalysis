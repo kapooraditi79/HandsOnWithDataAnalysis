{
 "cells": [
  {
   "cell_type": "code",
   "execution_count": 1,
   "id": "e36bc03d",
   "metadata": {},
   "outputs": [],
   "source": [
    "import pandas as pd"
   ]
  },
  {
   "cell_type": "code",
   "execution_count": 2,
   "id": "019c4275",
   "metadata": {},
   "outputs": [],
   "source": [
    "df= pd.DataFrame()"
   ]
  },
  {
   "cell_type": "code",
   "execution_count": 3,
   "id": "f9f40afb",
   "metadata": {},
   "outputs": [],
   "source": [
    "data={\n",
    "    'Revenue':[274515,200734,182527,181945,143015,129184,92224,85965,84893,\n",
    "                    82345,77867,73620,69864,63191],\n",
    "    'Employees':[147000,267937,135301,878429,163000,197000,158000,58604,\n",
    "                      109700,350864,110600,364800,85858,243540],\n",
    "    'Sector':['Consumer Electronics','Consumer Electronics','Software Services',\n",
    "                   'Chip Manufacturing','Software Services','Consumer Electronics',\n",
    "                   'Consumer Electronics','Software Services','Consumer Electronics',\n",
    "                   'Consumer Electronics','Chip Manufacturing','Software Services',\n",
    "                   'Software Services','Consumer Electronics'],\n",
    "    'Founding Date':['01-04-1976','13-01-1969','04-09-1998','20-02-1974',\n",
    "                         '04-04-1975','15-09-1987','01-02-1984','04-02-2004',\n",
    "                         '07-04-1946','01-01-1910','18-07-1968','16-06-1911',\n",
    "                         '11-11-1998','07-03-1918'],\n",
    "    'Country':['USA','South Korea','USA','Taiwan','USA','China','USA','USA',\n",
    "                   'Japan','Japan','USA','USA','China','Japan']\n",
    "}\n",
    "index = ['Apple','Samsung','Alphabet','Foxconn','Microsoft','Huawei',\n",
    "         'Dell Technologies','Meta','Sony','Hitachi','Intel','IBM',\n",
    "         'Tencent','Panasonic']"
   ]
  },
  {
   "cell_type": "markdown",
   "id": "8f4a5c05",
   "metadata": {},
   "source": [
    "Create the dataframe "
   ]
  },
  {
   "cell_type": "code",
   "execution_count": 5,
   "id": "5b828653",
   "metadata": {},
   "outputs": [
    {
     "data": {
      "text/html": [
       "<div>\n",
       "<style scoped>\n",
       "    .dataframe tbody tr th:only-of-type {\n",
       "        vertical-align: middle;\n",
       "    }\n",
       "\n",
       "    .dataframe tbody tr th {\n",
       "        vertical-align: top;\n",
       "    }\n",
       "\n",
       "    .dataframe thead th {\n",
       "        text-align: right;\n",
       "    }\n",
       "</style>\n",
       "<table border=\"1\" class=\"dataframe\">\n",
       "  <thead>\n",
       "    <tr style=\"text-align: right;\">\n",
       "      <th></th>\n",
       "      <th>Revenue</th>\n",
       "      <th>Employees</th>\n",
       "      <th>Sector</th>\n",
       "      <th>Founding Date</th>\n",
       "      <th>Country</th>\n",
       "    </tr>\n",
       "  </thead>\n",
       "  <tbody>\n",
       "    <tr>\n",
       "      <th>Apple</th>\n",
       "      <td>274515</td>\n",
       "      <td>147000</td>\n",
       "      <td>Consumer Electronics</td>\n",
       "      <td>01-04-1976</td>\n",
       "      <td>USA</td>\n",
       "    </tr>\n",
       "    <tr>\n",
       "      <th>Samsung</th>\n",
       "      <td>200734</td>\n",
       "      <td>267937</td>\n",
       "      <td>Consumer Electronics</td>\n",
       "      <td>13-01-1969</td>\n",
       "      <td>South Korea</td>\n",
       "    </tr>\n",
       "    <tr>\n",
       "      <th>Alphabet</th>\n",
       "      <td>182527</td>\n",
       "      <td>135301</td>\n",
       "      <td>Software Services</td>\n",
       "      <td>04-09-1998</td>\n",
       "      <td>USA</td>\n",
       "    </tr>\n",
       "    <tr>\n",
       "      <th>Foxconn</th>\n",
       "      <td>181945</td>\n",
       "      <td>878429</td>\n",
       "      <td>Chip Manufacturing</td>\n",
       "      <td>20-02-1974</td>\n",
       "      <td>Taiwan</td>\n",
       "    </tr>\n",
       "    <tr>\n",
       "      <th>Microsoft</th>\n",
       "      <td>143015</td>\n",
       "      <td>163000</td>\n",
       "      <td>Software Services</td>\n",
       "      <td>04-04-1975</td>\n",
       "      <td>USA</td>\n",
       "    </tr>\n",
       "    <tr>\n",
       "      <th>Huawei</th>\n",
       "      <td>129184</td>\n",
       "      <td>197000</td>\n",
       "      <td>Consumer Electronics</td>\n",
       "      <td>15-09-1987</td>\n",
       "      <td>China</td>\n",
       "    </tr>\n",
       "    <tr>\n",
       "      <th>Dell Technologies</th>\n",
       "      <td>92224</td>\n",
       "      <td>158000</td>\n",
       "      <td>Consumer Electronics</td>\n",
       "      <td>01-02-1984</td>\n",
       "      <td>USA</td>\n",
       "    </tr>\n",
       "    <tr>\n",
       "      <th>Meta</th>\n",
       "      <td>85965</td>\n",
       "      <td>58604</td>\n",
       "      <td>Software Services</td>\n",
       "      <td>04-02-2004</td>\n",
       "      <td>USA</td>\n",
       "    </tr>\n",
       "    <tr>\n",
       "      <th>Sony</th>\n",
       "      <td>84893</td>\n",
       "      <td>109700</td>\n",
       "      <td>Consumer Electronics</td>\n",
       "      <td>07-04-1946</td>\n",
       "      <td>Japan</td>\n",
       "    </tr>\n",
       "    <tr>\n",
       "      <th>Hitachi</th>\n",
       "      <td>82345</td>\n",
       "      <td>350864</td>\n",
       "      <td>Consumer Electronics</td>\n",
       "      <td>01-01-1910</td>\n",
       "      <td>Japan</td>\n",
       "    </tr>\n",
       "    <tr>\n",
       "      <th>Intel</th>\n",
       "      <td>77867</td>\n",
       "      <td>110600</td>\n",
       "      <td>Chip Manufacturing</td>\n",
       "      <td>18-07-1968</td>\n",
       "      <td>USA</td>\n",
       "    </tr>\n",
       "    <tr>\n",
       "      <th>IBM</th>\n",
       "      <td>73620</td>\n",
       "      <td>364800</td>\n",
       "      <td>Software Services</td>\n",
       "      <td>16-06-1911</td>\n",
       "      <td>USA</td>\n",
       "    </tr>\n",
       "    <tr>\n",
       "      <th>Tencent</th>\n",
       "      <td>69864</td>\n",
       "      <td>85858</td>\n",
       "      <td>Software Services</td>\n",
       "      <td>11-11-1998</td>\n",
       "      <td>China</td>\n",
       "    </tr>\n",
       "    <tr>\n",
       "      <th>Panasonic</th>\n",
       "      <td>63191</td>\n",
       "      <td>243540</td>\n",
       "      <td>Consumer Electronics</td>\n",
       "      <td>07-03-1918</td>\n",
       "      <td>Japan</td>\n",
       "    </tr>\n",
       "  </tbody>\n",
       "</table>\n",
       "</div>"
      ],
      "text/plain": [
       "                   Revenue  Employees                Sector Founding Date  \\\n",
       "Apple               274515     147000  Consumer Electronics    01-04-1976   \n",
       "Samsung             200734     267937  Consumer Electronics    13-01-1969   \n",
       "Alphabet            182527     135301     Software Services    04-09-1998   \n",
       "Foxconn             181945     878429    Chip Manufacturing    20-02-1974   \n",
       "Microsoft           143015     163000     Software Services    04-04-1975   \n",
       "Huawei              129184     197000  Consumer Electronics    15-09-1987   \n",
       "Dell Technologies    92224     158000  Consumer Electronics    01-02-1984   \n",
       "Meta                 85965      58604     Software Services    04-02-2004   \n",
       "Sony                 84893     109700  Consumer Electronics    07-04-1946   \n",
       "Hitachi              82345     350864  Consumer Electronics    01-01-1910   \n",
       "Intel                77867     110600    Chip Manufacturing    18-07-1968   \n",
       "IBM                  73620     364800     Software Services    16-06-1911   \n",
       "Tencent              69864      85858     Software Services    11-11-1998   \n",
       "Panasonic            63191     243540  Consumer Electronics    07-03-1918   \n",
       "\n",
       "                       Country  \n",
       "Apple                      USA  \n",
       "Samsung            South Korea  \n",
       "Alphabet                   USA  \n",
       "Foxconn                 Taiwan  \n",
       "Microsoft                  USA  \n",
       "Huawei                   China  \n",
       "Dell Technologies          USA  \n",
       "Meta                       USA  \n",
       "Sony                     Japan  \n",
       "Hitachi                  Japan  \n",
       "Intel                      USA  \n",
       "IBM                        USA  \n",
       "Tencent                  China  \n",
       "Panasonic                Japan  "
      ]
     },
     "execution_count": 5,
     "metadata": {},
     "output_type": "execute_result"
    }
   ],
   "source": [
    "df=pd.DataFrame(data,index=index)\n",
    "df"
   ]
  },
  {
   "cell_type": "code",
   "execution_count": 6,
   "id": "14d31174",
   "metadata": {},
   "outputs": [
    {
     "data": {
      "text/html": [
       "<div>\n",
       "<style scoped>\n",
       "    .dataframe tbody tr th:only-of-type {\n",
       "        vertical-align: middle;\n",
       "    }\n",
       "\n",
       "    .dataframe tbody tr th {\n",
       "        vertical-align: top;\n",
       "    }\n",
       "\n",
       "    .dataframe thead th {\n",
       "        text-align: right;\n",
       "    }\n",
       "</style>\n",
       "<table border=\"1\" class=\"dataframe\">\n",
       "  <thead>\n",
       "    <tr style=\"text-align: right;\">\n",
       "      <th></th>\n",
       "      <th>Revenue</th>\n",
       "      <th>Employees</th>\n",
       "      <th>Sector</th>\n",
       "      <th>Founding Date</th>\n",
       "      <th>Country</th>\n",
       "    </tr>\n",
       "  </thead>\n",
       "  <tbody>\n",
       "    <tr>\n",
       "      <th>Apple</th>\n",
       "      <td>274515</td>\n",
       "      <td>147000</td>\n",
       "      <td>Consumer Electronics</td>\n",
       "      <td>01-04-1976</td>\n",
       "      <td>USA</td>\n",
       "    </tr>\n",
       "    <tr>\n",
       "      <th>Samsung</th>\n",
       "      <td>200734</td>\n",
       "      <td>267937</td>\n",
       "      <td>Consumer Electronics</td>\n",
       "      <td>13-01-1969</td>\n",
       "      <td>South Korea</td>\n",
       "    </tr>\n",
       "    <tr>\n",
       "      <th>Alphabet</th>\n",
       "      <td>182527</td>\n",
       "      <td>135301</td>\n",
       "      <td>Software Services</td>\n",
       "      <td>04-09-1998</td>\n",
       "      <td>USA</td>\n",
       "    </tr>\n",
       "    <tr>\n",
       "      <th>Foxconn</th>\n",
       "      <td>181945</td>\n",
       "      <td>878429</td>\n",
       "      <td>Chip Manufacturing</td>\n",
       "      <td>20-02-1974</td>\n",
       "      <td>Taiwan</td>\n",
       "    </tr>\n",
       "    <tr>\n",
       "      <th>Microsoft</th>\n",
       "      <td>143015</td>\n",
       "      <td>163000</td>\n",
       "      <td>Software Services</td>\n",
       "      <td>04-04-1975</td>\n",
       "      <td>USA</td>\n",
       "    </tr>\n",
       "    <tr>\n",
       "      <th>Huawei</th>\n",
       "      <td>129184</td>\n",
       "      <td>197000</td>\n",
       "      <td>Consumer Electronics</td>\n",
       "      <td>15-09-1987</td>\n",
       "      <td>China</td>\n",
       "    </tr>\n",
       "    <tr>\n",
       "      <th>Dell Technologies</th>\n",
       "      <td>92224</td>\n",
       "      <td>158000</td>\n",
       "      <td>Consumer Electronics</td>\n",
       "      <td>01-02-1984</td>\n",
       "      <td>USA</td>\n",
       "    </tr>\n",
       "  </tbody>\n",
       "</table>\n",
       "</div>"
      ],
      "text/plain": [
       "                   Revenue  Employees                Sector Founding Date  \\\n",
       "Apple               274515     147000  Consumer Electronics    01-04-1976   \n",
       "Samsung             200734     267937  Consumer Electronics    13-01-1969   \n",
       "Alphabet            182527     135301     Software Services    04-09-1998   \n",
       "Foxconn             181945     878429    Chip Manufacturing    20-02-1974   \n",
       "Microsoft           143015     163000     Software Services    04-04-1975   \n",
       "Huawei              129184     197000  Consumer Electronics    15-09-1987   \n",
       "Dell Technologies    92224     158000  Consumer Electronics    01-02-1984   \n",
       "\n",
       "                       Country  \n",
       "Apple                      USA  \n",
       "Samsung            South Korea  \n",
       "Alphabet                   USA  \n",
       "Foxconn                 Taiwan  \n",
       "Microsoft                  USA  \n",
       "Huawei                   China  \n",
       "Dell Technologies          USA  "
      ]
     },
     "execution_count": 6,
     "metadata": {},
     "output_type": "execute_result"
    }
   ],
   "source": [
    "df.head(7)"
   ]
  },
  {
   "cell_type": "code",
   "execution_count": 11,
   "id": "c6b28972",
   "metadata": {},
   "outputs": [
    {
     "data": {
      "text/html": [
       "<div>\n",
       "<style scoped>\n",
       "    .dataframe tbody tr th:only-of-type {\n",
       "        vertical-align: middle;\n",
       "    }\n",
       "\n",
       "    .dataframe tbody tr th {\n",
       "        vertical-align: top;\n",
       "    }\n",
       "\n",
       "    .dataframe thead th {\n",
       "        text-align: right;\n",
       "    }\n",
       "</style>\n",
       "<table border=\"1\" class=\"dataframe\">\n",
       "  <thead>\n",
       "    <tr style=\"text-align: right;\">\n",
       "      <th></th>\n",
       "      <th>Revenue</th>\n",
       "      <th>Employees</th>\n",
       "      <th>Sector</th>\n",
       "      <th>Founding Date</th>\n",
       "      <th>Country</th>\n",
       "    </tr>\n",
       "  </thead>\n",
       "  <tbody>\n",
       "    <tr>\n",
       "      <th>Foxconn</th>\n",
       "      <td>181945</td>\n",
       "      <td>878429</td>\n",
       "      <td>Chip Manufacturing</td>\n",
       "      <td>20-02-1974</td>\n",
       "      <td>Taiwan</td>\n",
       "    </tr>\n",
       "    <tr>\n",
       "      <th>Microsoft</th>\n",
       "      <td>143015</td>\n",
       "      <td>163000</td>\n",
       "      <td>Software Services</td>\n",
       "      <td>04-04-1975</td>\n",
       "      <td>USA</td>\n",
       "    </tr>\n",
       "    <tr>\n",
       "      <th>Huawei</th>\n",
       "      <td>129184</td>\n",
       "      <td>197000</td>\n",
       "      <td>Consumer Electronics</td>\n",
       "      <td>15-09-1987</td>\n",
       "      <td>China</td>\n",
       "    </tr>\n",
       "    <tr>\n",
       "      <th>Dell Technologies</th>\n",
       "      <td>92224</td>\n",
       "      <td>158000</td>\n",
       "      <td>Consumer Electronics</td>\n",
       "      <td>01-02-1984</td>\n",
       "      <td>USA</td>\n",
       "    </tr>\n",
       "    <tr>\n",
       "      <th>Meta</th>\n",
       "      <td>85965</td>\n",
       "      <td>58604</td>\n",
       "      <td>Software Services</td>\n",
       "      <td>04-02-2004</td>\n",
       "      <td>USA</td>\n",
       "    </tr>\n",
       "    <tr>\n",
       "      <th>Sony</th>\n",
       "      <td>84893</td>\n",
       "      <td>109700</td>\n",
       "      <td>Consumer Electronics</td>\n",
       "      <td>07-04-1946</td>\n",
       "      <td>Japan</td>\n",
       "    </tr>\n",
       "    <tr>\n",
       "      <th>Hitachi</th>\n",
       "      <td>82345</td>\n",
       "      <td>350864</td>\n",
       "      <td>Consumer Electronics</td>\n",
       "      <td>01-01-1910</td>\n",
       "      <td>Japan</td>\n",
       "    </tr>\n",
       "    <tr>\n",
       "      <th>Intel</th>\n",
       "      <td>77867</td>\n",
       "      <td>110600</td>\n",
       "      <td>Chip Manufacturing</td>\n",
       "      <td>18-07-1968</td>\n",
       "      <td>USA</td>\n",
       "    </tr>\n",
       "    <tr>\n",
       "      <th>IBM</th>\n",
       "      <td>73620</td>\n",
       "      <td>364800</td>\n",
       "      <td>Software Services</td>\n",
       "      <td>16-06-1911</td>\n",
       "      <td>USA</td>\n",
       "    </tr>\n",
       "    <tr>\n",
       "      <th>Tencent</th>\n",
       "      <td>69864</td>\n",
       "      <td>85858</td>\n",
       "      <td>Software Services</td>\n",
       "      <td>11-11-1998</td>\n",
       "      <td>China</td>\n",
       "    </tr>\n",
       "    <tr>\n",
       "      <th>Panasonic</th>\n",
       "      <td>63191</td>\n",
       "      <td>243540</td>\n",
       "      <td>Consumer Electronics</td>\n",
       "      <td>07-03-1918</td>\n",
       "      <td>Japan</td>\n",
       "    </tr>\n",
       "  </tbody>\n",
       "</table>\n",
       "</div>"
      ],
      "text/plain": [
       "                   Revenue  Employees                Sector Founding Date  \\\n",
       "Foxconn             181945     878429    Chip Manufacturing    20-02-1974   \n",
       "Microsoft           143015     163000     Software Services    04-04-1975   \n",
       "Huawei              129184     197000  Consumer Electronics    15-09-1987   \n",
       "Dell Technologies    92224     158000  Consumer Electronics    01-02-1984   \n",
       "Meta                 85965      58604     Software Services    04-02-2004   \n",
       "Sony                 84893     109700  Consumer Electronics    07-04-1946   \n",
       "Hitachi              82345     350864  Consumer Electronics    01-01-1910   \n",
       "Intel                77867     110600    Chip Manufacturing    18-07-1968   \n",
       "IBM                  73620     364800     Software Services    16-06-1911   \n",
       "Tencent              69864      85858     Software Services    11-11-1998   \n",
       "Panasonic            63191     243540  Consumer Electronics    07-03-1918   \n",
       "\n",
       "                  Country  \n",
       "Foxconn            Taiwan  \n",
       "Microsoft             USA  \n",
       "Huawei              China  \n",
       "Dell Technologies     USA  \n",
       "Meta                  USA  \n",
       "Sony                Japan  \n",
       "Hitachi             Japan  \n",
       "Intel                 USA  \n",
       "IBM                   USA  \n",
       "Tencent             China  \n",
       "Panasonic           Japan  "
      ]
     },
     "execution_count": 11,
     "metadata": {},
     "output_type": "execute_result"
    }
   ],
   "source": [
    "df.tail(11)"
   ]
  },
  {
   "cell_type": "code",
   "execution_count": 8,
   "id": "739ffdbd",
   "metadata": {},
   "outputs": [
    {
     "name": "stdout",
     "output_type": "stream",
     "text": [
      "<class 'pandas.core.frame.DataFrame'>\n",
      "Index: 14 entries, Apple to Panasonic\n",
      "Data columns (total 5 columns):\n",
      " #   Column         Non-Null Count  Dtype \n",
      "---  ------         --------------  ----- \n",
      " 0   Revenue        14 non-null     int64 \n",
      " 1   Employees      14 non-null     int64 \n",
      " 2   Sector         14 non-null     object\n",
      " 3   Founding Date  14 non-null     object\n",
      " 4   Country        14 non-null     object\n",
      "dtypes: int64(2), object(3)\n",
      "memory usage: 1.2+ KB\n"
     ]
    }
   ],
   "source": [
    "df.info()"
   ]
  },
  {
   "cell_type": "code",
   "execution_count": 9,
   "id": "9b4ea405",
   "metadata": {},
   "outputs": [
    {
     "data": {
      "text/plain": [
       "(14, 5)"
      ]
     },
     "execution_count": 9,
     "metadata": {},
     "output_type": "execute_result"
    }
   ],
   "source": [
    "df.shape"
   ]
  },
  {
   "cell_type": "code",
   "execution_count": 10,
   "id": "427769b0",
   "metadata": {},
   "outputs": [
    {
     "data": {
      "text/html": [
       "<div>\n",
       "<style scoped>\n",
       "    .dataframe tbody tr th:only-of-type {\n",
       "        vertical-align: middle;\n",
       "    }\n",
       "\n",
       "    .dataframe tbody tr th {\n",
       "        vertical-align: top;\n",
       "    }\n",
       "\n",
       "    .dataframe thead th {\n",
       "        text-align: right;\n",
       "    }\n",
       "</style>\n",
       "<table border=\"1\" class=\"dataframe\">\n",
       "  <thead>\n",
       "    <tr style=\"text-align: right;\">\n",
       "      <th></th>\n",
       "      <th>Revenue</th>\n",
       "      <th>Employees</th>\n",
       "    </tr>\n",
       "  </thead>\n",
       "  <tbody>\n",
       "    <tr>\n",
       "      <th>count</th>\n",
       "      <td>14.000000</td>\n",
       "      <td>14.000000</td>\n",
       "    </tr>\n",
       "    <tr>\n",
       "      <th>mean</th>\n",
       "      <td>124420.642857</td>\n",
       "      <td>233616.642857</td>\n",
       "    </tr>\n",
       "    <tr>\n",
       "      <th>std</th>\n",
       "      <td>63686.481231</td>\n",
       "      <td>207583.087389</td>\n",
       "    </tr>\n",
       "    <tr>\n",
       "      <th>min</th>\n",
       "      <td>63191.000000</td>\n",
       "      <td>58604.000000</td>\n",
       "    </tr>\n",
       "    <tr>\n",
       "      <th>25%</th>\n",
       "      <td>78986.500000</td>\n",
       "      <td>116775.250000</td>\n",
       "    </tr>\n",
       "    <tr>\n",
       "      <th>50%</th>\n",
       "      <td>89094.500000</td>\n",
       "      <td>160500.000000</td>\n",
       "    </tr>\n",
       "    <tr>\n",
       "      <th>75%</th>\n",
       "      <td>172212.500000</td>\n",
       "      <td>261837.750000</td>\n",
       "    </tr>\n",
       "    <tr>\n",
       "      <th>max</th>\n",
       "      <td>274515.000000</td>\n",
       "      <td>878429.000000</td>\n",
       "    </tr>\n",
       "  </tbody>\n",
       "</table>\n",
       "</div>"
      ],
      "text/plain": [
       "             Revenue      Employees\n",
       "count      14.000000      14.000000\n",
       "mean   124420.642857  233616.642857\n",
       "std     63686.481231  207583.087389\n",
       "min     63191.000000   58604.000000\n",
       "25%     78986.500000  116775.250000\n",
       "50%     89094.500000  160500.000000\n",
       "75%    172212.500000  261837.750000\n",
       "max    274515.000000  878429.000000"
      ]
     },
     "execution_count": 10,
     "metadata": {},
     "output_type": "execute_result"
    }
   ],
   "source": [
    "df.describe()"
   ]
  },
  {
   "cell_type": "code",
   "execution_count": 12,
   "id": "1d62fd66",
   "metadata": {},
   "outputs": [
    {
     "data": {
      "text/plain": [
       "Revenue          14\n",
       "Employees        14\n",
       "Sector            3\n",
       "Founding Date    14\n",
       "Country           5\n",
       "dtype: int64"
      ]
     },
     "execution_count": 12,
     "metadata": {},
     "output_type": "execute_result"
    }
   ],
   "source": [
    "df.nunique()"
   ]
  },
  {
   "cell_type": "code",
   "execution_count": 13,
   "id": "a8a54563",
   "metadata": {},
   "outputs": [
    {
     "data": {
      "text/html": [
       "<div>\n",
       "<style scoped>\n",
       "    .dataframe tbody tr th:only-of-type {\n",
       "        vertical-align: middle;\n",
       "    }\n",
       "\n",
       "    .dataframe tbody tr th {\n",
       "        vertical-align: top;\n",
       "    }\n",
       "\n",
       "    .dataframe thead th {\n",
       "        text-align: right;\n",
       "    }\n",
       "</style>\n",
       "<table border=\"1\" class=\"dataframe\">\n",
       "  <thead>\n",
       "    <tr style=\"text-align: right;\">\n",
       "      <th></th>\n",
       "      <th>Revenue</th>\n",
       "      <th>Employees</th>\n",
       "      <th>Sector</th>\n",
       "      <th>Founding Date</th>\n",
       "      <th>Country</th>\n",
       "    </tr>\n",
       "  </thead>\n",
       "  <tbody>\n",
       "    <tr>\n",
       "      <th>Apple</th>\n",
       "      <td>False</td>\n",
       "      <td>False</td>\n",
       "      <td>False</td>\n",
       "      <td>False</td>\n",
       "      <td>False</td>\n",
       "    </tr>\n",
       "    <tr>\n",
       "      <th>Samsung</th>\n",
       "      <td>False</td>\n",
       "      <td>False</td>\n",
       "      <td>False</td>\n",
       "      <td>False</td>\n",
       "      <td>False</td>\n",
       "    </tr>\n",
       "    <tr>\n",
       "      <th>Alphabet</th>\n",
       "      <td>False</td>\n",
       "      <td>False</td>\n",
       "      <td>False</td>\n",
       "      <td>False</td>\n",
       "      <td>False</td>\n",
       "    </tr>\n",
       "    <tr>\n",
       "      <th>Foxconn</th>\n",
       "      <td>False</td>\n",
       "      <td>False</td>\n",
       "      <td>False</td>\n",
       "      <td>False</td>\n",
       "      <td>False</td>\n",
       "    </tr>\n",
       "    <tr>\n",
       "      <th>Microsoft</th>\n",
       "      <td>False</td>\n",
       "      <td>False</td>\n",
       "      <td>False</td>\n",
       "      <td>False</td>\n",
       "      <td>False</td>\n",
       "    </tr>\n",
       "    <tr>\n",
       "      <th>Huawei</th>\n",
       "      <td>False</td>\n",
       "      <td>False</td>\n",
       "      <td>False</td>\n",
       "      <td>False</td>\n",
       "      <td>False</td>\n",
       "    </tr>\n",
       "    <tr>\n",
       "      <th>Dell Technologies</th>\n",
       "      <td>False</td>\n",
       "      <td>False</td>\n",
       "      <td>False</td>\n",
       "      <td>False</td>\n",
       "      <td>False</td>\n",
       "    </tr>\n",
       "    <tr>\n",
       "      <th>Meta</th>\n",
       "      <td>False</td>\n",
       "      <td>False</td>\n",
       "      <td>False</td>\n",
       "      <td>False</td>\n",
       "      <td>False</td>\n",
       "    </tr>\n",
       "    <tr>\n",
       "      <th>Sony</th>\n",
       "      <td>False</td>\n",
       "      <td>False</td>\n",
       "      <td>False</td>\n",
       "      <td>False</td>\n",
       "      <td>False</td>\n",
       "    </tr>\n",
       "    <tr>\n",
       "      <th>Hitachi</th>\n",
       "      <td>False</td>\n",
       "      <td>False</td>\n",
       "      <td>False</td>\n",
       "      <td>False</td>\n",
       "      <td>False</td>\n",
       "    </tr>\n",
       "    <tr>\n",
       "      <th>Intel</th>\n",
       "      <td>False</td>\n",
       "      <td>False</td>\n",
       "      <td>False</td>\n",
       "      <td>False</td>\n",
       "      <td>False</td>\n",
       "    </tr>\n",
       "    <tr>\n",
       "      <th>IBM</th>\n",
       "      <td>False</td>\n",
       "      <td>False</td>\n",
       "      <td>False</td>\n",
       "      <td>False</td>\n",
       "      <td>False</td>\n",
       "    </tr>\n",
       "    <tr>\n",
       "      <th>Tencent</th>\n",
       "      <td>False</td>\n",
       "      <td>False</td>\n",
       "      <td>False</td>\n",
       "      <td>False</td>\n",
       "      <td>False</td>\n",
       "    </tr>\n",
       "    <tr>\n",
       "      <th>Panasonic</th>\n",
       "      <td>False</td>\n",
       "      <td>False</td>\n",
       "      <td>False</td>\n",
       "      <td>False</td>\n",
       "      <td>False</td>\n",
       "    </tr>\n",
       "  </tbody>\n",
       "</table>\n",
       "</div>"
      ],
      "text/plain": [
       "                   Revenue  Employees  Sector  Founding Date  Country\n",
       "Apple                False      False   False          False    False\n",
       "Samsung              False      False   False          False    False\n",
       "Alphabet             False      False   False          False    False\n",
       "Foxconn              False      False   False          False    False\n",
       "Microsoft            False      False   False          False    False\n",
       "Huawei               False      False   False          False    False\n",
       "Dell Technologies    False      False   False          False    False\n",
       "Meta                 False      False   False          False    False\n",
       "Sony                 False      False   False          False    False\n",
       "Hitachi              False      False   False          False    False\n",
       "Intel                False      False   False          False    False\n",
       "IBM                  False      False   False          False    False\n",
       "Tencent              False      False   False          False    False\n",
       "Panasonic            False      False   False          False    False"
      ]
     },
     "execution_count": 13,
     "metadata": {},
     "output_type": "execute_result"
    }
   ],
   "source": [
    "df.isnull()"
   ]
  },
  {
   "cell_type": "code",
   "execution_count": 15,
   "id": "794a7158",
   "metadata": {},
   "outputs": [
    {
     "data": {
      "text/plain": [
       "Revenue          0\n",
       "Employees        0\n",
       "Sector           0\n",
       "Founding Date    0\n",
       "Country          0\n",
       "dtype: int64"
      ]
     },
     "execution_count": 15,
     "metadata": {},
     "output_type": "execute_result"
    }
   ],
   "source": [
    "df.isnull().sum()"
   ]
  },
  {
   "cell_type": "code",
   "execution_count": 16,
   "id": "04304dc1",
   "metadata": {},
   "outputs": [
    {
     "data": {
      "text/plain": [
       "Apple                274515\n",
       "Samsung              200734\n",
       "Alphabet             182527\n",
       "Foxconn              181945\n",
       "Microsoft            143015\n",
       "Huawei               129184\n",
       "Dell Technologies     92224\n",
       "Meta                  85965\n",
       "Sony                  84893\n",
       "Hitachi               82345\n",
       "Intel                 77867\n",
       "IBM                   73620\n",
       "Tencent               69864\n",
       "Panasonic             63191\n",
       "Name: Revenue, dtype: int64"
      ]
     },
     "execution_count": 16,
     "metadata": {},
     "output_type": "execute_result"
    }
   ],
   "source": [
    "df['Revenue']"
   ]
  },
  {
   "cell_type": "code",
   "execution_count": 17,
   "id": "f09d1649",
   "metadata": {},
   "outputs": [
    {
     "data": {
      "text/plain": [
       "1741889"
      ]
     },
     "execution_count": 17,
     "metadata": {},
     "output_type": "execute_result"
    }
   ],
   "source": [
    "df['Revenue'].sum()"
   ]
  },
  {
   "cell_type": "code",
   "execution_count": null,
   "id": "3e80a302",
   "metadata": {},
   "outputs": [
    {
     "ename": "KeyError",
     "evalue": "('Revenue', 'Employees', 'Country')",
     "output_type": "error",
     "traceback": [
      "\u001b[1;31m---------------------------------------------------------------------------\u001b[0m",
      "\u001b[1;31mKeyError\u001b[0m                                  Traceback (most recent call last)",
      "File \u001b[1;32mc:\\Users\\think\\anaconda3\\Lib\\site-packages\\pandas\\core\\indexes\\base.py:3805\u001b[0m, in \u001b[0;36mIndex.get_loc\u001b[1;34m(self, key)\u001b[0m\n\u001b[0;32m   3804\u001b[0m \u001b[38;5;28;01mtry\u001b[39;00m:\n\u001b[1;32m-> 3805\u001b[0m     \u001b[38;5;28;01mreturn\u001b[39;00m \u001b[38;5;28mself\u001b[39m\u001b[38;5;241m.\u001b[39m_engine\u001b[38;5;241m.\u001b[39mget_loc(casted_key)\n\u001b[0;32m   3806\u001b[0m \u001b[38;5;28;01mexcept\u001b[39;00m \u001b[38;5;167;01mKeyError\u001b[39;00m \u001b[38;5;28;01mas\u001b[39;00m err:\n",
      "File \u001b[1;32mindex.pyx:167\u001b[0m, in \u001b[0;36mpandas._libs.index.IndexEngine.get_loc\u001b[1;34m()\u001b[0m\n",
      "File \u001b[1;32mindex.pyx:196\u001b[0m, in \u001b[0;36mpandas._libs.index.IndexEngine.get_loc\u001b[1;34m()\u001b[0m\n",
      "File \u001b[1;32mpandas\\\\_libs\\\\hashtable_class_helper.pxi:7081\u001b[0m, in \u001b[0;36mpandas._libs.hashtable.PyObjectHashTable.get_item\u001b[1;34m()\u001b[0m\n",
      "File \u001b[1;32mpandas\\\\_libs\\\\hashtable_class_helper.pxi:7089\u001b[0m, in \u001b[0;36mpandas._libs.hashtable.PyObjectHashTable.get_item\u001b[1;34m()\u001b[0m\n",
      "\u001b[1;31mKeyError\u001b[0m: ('Revenue', 'Employees', 'Country')",
      "\nThe above exception was the direct cause of the following exception:\n",
      "\u001b[1;31mKeyError\u001b[0m                                  Traceback (most recent call last)",
      "Cell \u001b[1;32mIn[18], line 1\u001b[0m\n\u001b[1;32m----> 1\u001b[0m df[\u001b[38;5;124m'\u001b[39m\u001b[38;5;124mRevenue\u001b[39m\u001b[38;5;124m'\u001b[39m, \u001b[38;5;124m'\u001b[39m\u001b[38;5;124mEmployees\u001b[39m\u001b[38;5;124m'\u001b[39m,\u001b[38;5;124m'\u001b[39m\u001b[38;5;124mCountry\u001b[39m\u001b[38;5;124m'\u001b[39m]\n",
      "File \u001b[1;32mc:\\Users\\think\\anaconda3\\Lib\\site-packages\\pandas\\core\\frame.py:4102\u001b[0m, in \u001b[0;36mDataFrame.__getitem__\u001b[1;34m(self, key)\u001b[0m\n\u001b[0;32m   4100\u001b[0m \u001b[38;5;28;01mif\u001b[39;00m \u001b[38;5;28mself\u001b[39m\u001b[38;5;241m.\u001b[39mcolumns\u001b[38;5;241m.\u001b[39mnlevels \u001b[38;5;241m>\u001b[39m \u001b[38;5;241m1\u001b[39m:\n\u001b[0;32m   4101\u001b[0m     \u001b[38;5;28;01mreturn\u001b[39;00m \u001b[38;5;28mself\u001b[39m\u001b[38;5;241m.\u001b[39m_getitem_multilevel(key)\n\u001b[1;32m-> 4102\u001b[0m indexer \u001b[38;5;241m=\u001b[39m \u001b[38;5;28mself\u001b[39m\u001b[38;5;241m.\u001b[39mcolumns\u001b[38;5;241m.\u001b[39mget_loc(key)\n\u001b[0;32m   4103\u001b[0m \u001b[38;5;28;01mif\u001b[39;00m is_integer(indexer):\n\u001b[0;32m   4104\u001b[0m     indexer \u001b[38;5;241m=\u001b[39m [indexer]\n",
      "File \u001b[1;32mc:\\Users\\think\\anaconda3\\Lib\\site-packages\\pandas\\core\\indexes\\base.py:3812\u001b[0m, in \u001b[0;36mIndex.get_loc\u001b[1;34m(self, key)\u001b[0m\n\u001b[0;32m   3807\u001b[0m     \u001b[38;5;28;01mif\u001b[39;00m \u001b[38;5;28misinstance\u001b[39m(casted_key, \u001b[38;5;28mslice\u001b[39m) \u001b[38;5;129;01mor\u001b[39;00m (\n\u001b[0;32m   3808\u001b[0m         \u001b[38;5;28misinstance\u001b[39m(casted_key, abc\u001b[38;5;241m.\u001b[39mIterable)\n\u001b[0;32m   3809\u001b[0m         \u001b[38;5;129;01mand\u001b[39;00m \u001b[38;5;28many\u001b[39m(\u001b[38;5;28misinstance\u001b[39m(x, \u001b[38;5;28mslice\u001b[39m) \u001b[38;5;28;01mfor\u001b[39;00m x \u001b[38;5;129;01min\u001b[39;00m casted_key)\n\u001b[0;32m   3810\u001b[0m     ):\n\u001b[0;32m   3811\u001b[0m         \u001b[38;5;28;01mraise\u001b[39;00m InvalidIndexError(key)\n\u001b[1;32m-> 3812\u001b[0m     \u001b[38;5;28;01mraise\u001b[39;00m \u001b[38;5;167;01mKeyError\u001b[39;00m(key) \u001b[38;5;28;01mfrom\u001b[39;00m \u001b[38;5;21;01merr\u001b[39;00m\n\u001b[0;32m   3813\u001b[0m \u001b[38;5;28;01mexcept\u001b[39;00m \u001b[38;5;167;01mTypeError\u001b[39;00m:\n\u001b[0;32m   3814\u001b[0m     \u001b[38;5;66;03m# If we have a listlike key, _check_indexing_error will raise\u001b[39;00m\n\u001b[0;32m   3815\u001b[0m     \u001b[38;5;66;03m#  InvalidIndexError. Otherwise we fall through and re-raise\u001b[39;00m\n\u001b[0;32m   3816\u001b[0m     \u001b[38;5;66;03m#  the TypeError.\u001b[39;00m\n\u001b[0;32m   3817\u001b[0m     \u001b[38;5;28mself\u001b[39m\u001b[38;5;241m.\u001b[39m_check_indexing_error(key)\n",
      "\u001b[1;31mKeyError\u001b[0m: ('Revenue', 'Employees', 'Country')"
     ]
    }
   ],
   "source": [
    "#ERRORRR!!\n",
    "df['Revenue', 'Employees','Country']\n",
    "#Use double brackets to select multiple columns"
   ]
  },
  {
   "cell_type": "code",
   "execution_count": 19,
   "id": "873ec08e",
   "metadata": {},
   "outputs": [],
   "source": [
    "# We can save this dataframe to another dataframe\n",
    "df_new = df[['Revenue', 'Employees','Country']]"
   ]
  },
  {
   "cell_type": "code",
   "execution_count": 20,
   "id": "33e43666",
   "metadata": {},
   "outputs": [
    {
     "data": {
      "text/plain": [
       "Revenue      124420.642857\n",
       "Employees    233616.642857\n",
       "dtype: float64"
      ]
     },
     "execution_count": 20,
     "metadata": {},
     "output_type": "execute_result"
    }
   ],
   "source": [
    "new_df = df[['Revenue', 'Employees']] # we removed the Country column as it is not a numerical column\n",
    "new_df.mean()"
   ]
  },
  {
   "cell_type": "code",
   "execution_count": 21,
   "id": "8c66bf10",
   "metadata": {},
   "outputs": [],
   "source": [
    "employees_s = df['Employees']"
   ]
  },
  {
   "cell_type": "code",
   "execution_count": 22,
   "id": "05e6772c",
   "metadata": {},
   "outputs": [],
   "source": [
    "employees_median = round(employees_s.median())"
   ]
  },
  {
   "cell_type": "markdown",
   "id": "43ecfad6",
   "metadata": {},
   "source": [
    "LOC- selection by index\n",
    "loc[row_label, column_label]"
   ]
  },
  {
   "cell_type": "code",
   "execution_count": 23,
   "id": "78fb0d87",
   "metadata": {},
   "outputs": [
    {
     "data": {
      "text/plain": [
       "200734"
      ]
     },
     "execution_count": 23,
     "metadata": {},
     "output_type": "execute_result"
    }
   ],
   "source": [
    "df.loc['Samsung','Revenue']"
   ]
  },
  {
   "cell_type": "code",
   "execution_count": 24,
   "id": "5b52e45b",
   "metadata": {},
   "outputs": [
    {
     "data": {
      "text/plain": [
       "Apple                274515\n",
       "Samsung              200734\n",
       "Alphabet             182527\n",
       "Foxconn              181945\n",
       "Microsoft            143015\n",
       "Huawei               129184\n",
       "Dell Technologies     92224\n",
       "Meta                  85965\n",
       "Sony                  84893\n",
       "Hitachi               82345\n",
       "Intel                 77867\n",
       "IBM                   73620\n",
       "Tencent               69864\n",
       "Panasonic             63191\n",
       "Name: Revenue, dtype: int64"
      ]
     },
     "execution_count": 24,
     "metadata": {},
     "output_type": "execute_result"
    }
   ],
   "source": [
    "df.loc[:,'Revenue']"
   ]
  },
  {
   "cell_type": "code",
   "execution_count": 25,
   "id": "7ace62a1",
   "metadata": {},
   "outputs": [
    {
     "data": {
      "text/plain": [
       "Revenue                        200734\n",
       "Employees                      267937\n",
       "Sector           Consumer Electronics\n",
       "Founding Date              13-01-1969\n",
       "Country                   South Korea\n",
       "Name: Samsung, dtype: object"
      ]
     },
     "execution_count": 25,
     "metadata": {},
     "output_type": "execute_result"
    }
   ],
   "source": [
    "df.loc['Samsung',:]"
   ]
  },
  {
   "cell_type": "code",
   "execution_count": 26,
   "id": "e75d9c3f",
   "metadata": {},
   "outputs": [
    {
     "data": {
      "text/plain": [
       "Apple      274515\n",
       "Samsung    200734\n",
       "Sony        84893\n",
       "Name: Revenue, dtype: int64"
      ]
     },
     "execution_count": 26,
     "metadata": {},
     "output_type": "execute_result"
    }
   ],
   "source": [
    "df.loc[['Apple','Samsung','Sony'], 'Revenue']"
   ]
  },
  {
   "cell_type": "code",
   "execution_count": 27,
   "id": "d9b1936b",
   "metadata": {},
   "outputs": [
    {
     "data": {
      "text/plain": [
       "Employees    147000\n",
       "Country         USA\n",
       "Name: Apple, dtype: object"
      ]
     },
     "execution_count": 27,
     "metadata": {},
     "output_type": "execute_result"
    }
   ],
   "source": [
    "df.loc['Apple', ['Employees','Country']]"
   ]
  },
  {
   "cell_type": "markdown",
   "id": "2074e5f9",
   "metadata": {},
   "source": [
    "slicing with:\n",
    "\n",
    "start:stop:step"
   ]
  },
  {
   "cell_type": "code",
   "execution_count": 28,
   "id": "ba0b4f0c",
   "metadata": {},
   "outputs": [
    {
     "data": {
      "text/plain": [
       "Employees                      147000\n",
       "Sector           Consumer Electronics\n",
       "Founding Date              01-04-1976\n",
       "Name: Apple, dtype: object"
      ]
     },
     "execution_count": 28,
     "metadata": {},
     "output_type": "execute_result"
    }
   ],
   "source": [
    "df.loc['Apple', 'Employees':'Founding Date']"
   ]
  },
  {
   "cell_type": "code",
   "execution_count": 29,
   "id": "3fd57372",
   "metadata": {},
   "outputs": [
    {
     "data": {
      "text/plain": [
       "Apple                147000\n",
       "Samsung              267937\n",
       "Alphabet             135301\n",
       "Foxconn              878429\n",
       "Microsoft            163000\n",
       "Huawei               197000\n",
       "Dell Technologies    158000\n",
       "Meta                  58604\n",
       "Sony                 109700\n",
       "Name: Employees, dtype: int64"
      ]
     },
     "execution_count": 29,
     "metadata": {},
     "output_type": "execute_result"
    }
   ],
   "source": [
    "df.loc['Apple':'Sony', 'Employees']"
   ]
  },
  {
   "cell_type": "code",
   "execution_count": 31,
   "id": "2d37e92a",
   "metadata": {},
   "outputs": [
    {
     "data": {
      "text/html": [
       "<div>\n",
       "<style scoped>\n",
       "    .dataframe tbody tr th:only-of-type {\n",
       "        vertical-align: middle;\n",
       "    }\n",
       "\n",
       "    .dataframe tbody tr th {\n",
       "        vertical-align: top;\n",
       "    }\n",
       "\n",
       "    .dataframe thead th {\n",
       "        text-align: right;\n",
       "    }\n",
       "</style>\n",
       "<table border=\"1\" class=\"dataframe\">\n",
       "  <thead>\n",
       "    <tr style=\"text-align: right;\">\n",
       "      <th></th>\n",
       "      <th>Revenue</th>\n",
       "      <th>Employees</th>\n",
       "      <th>Sector</th>\n",
       "      <th>Founding Date</th>\n",
       "      <th>Country</th>\n",
       "    </tr>\n",
       "  </thead>\n",
       "  <tbody>\n",
       "    <tr>\n",
       "      <th>Apple</th>\n",
       "      <td>274515</td>\n",
       "      <td>147000</td>\n",
       "      <td>Consumer Electronics</td>\n",
       "      <td>01-04-1976</td>\n",
       "      <td>USA</td>\n",
       "    </tr>\n",
       "    <tr>\n",
       "      <th>Alphabet</th>\n",
       "      <td>182527</td>\n",
       "      <td>135301</td>\n",
       "      <td>Software Services</td>\n",
       "      <td>04-09-1998</td>\n",
       "      <td>USA</td>\n",
       "    </tr>\n",
       "    <tr>\n",
       "      <th>Microsoft</th>\n",
       "      <td>143015</td>\n",
       "      <td>163000</td>\n",
       "      <td>Software Services</td>\n",
       "      <td>04-04-1975</td>\n",
       "      <td>USA</td>\n",
       "    </tr>\n",
       "    <tr>\n",
       "      <th>Dell Technologies</th>\n",
       "      <td>92224</td>\n",
       "      <td>158000</td>\n",
       "      <td>Consumer Electronics</td>\n",
       "      <td>01-02-1984</td>\n",
       "      <td>USA</td>\n",
       "    </tr>\n",
       "    <tr>\n",
       "      <th>Sony</th>\n",
       "      <td>84893</td>\n",
       "      <td>109700</td>\n",
       "      <td>Consumer Electronics</td>\n",
       "      <td>07-04-1946</td>\n",
       "      <td>Japan</td>\n",
       "    </tr>\n",
       "  </tbody>\n",
       "</table>\n",
       "</div>"
      ],
      "text/plain": [
       "                   Revenue  Employees                Sector Founding Date  \\\n",
       "Apple               274515     147000  Consumer Electronics    01-04-1976   \n",
       "Alphabet            182527     135301     Software Services    04-09-1998   \n",
       "Microsoft           143015     163000     Software Services    04-04-1975   \n",
       "Dell Technologies    92224     158000  Consumer Electronics    01-02-1984   \n",
       "Sony                 84893     109700  Consumer Electronics    07-04-1946   \n",
       "\n",
       "                  Country  \n",
       "Apple                 USA  \n",
       "Alphabet              USA  \n",
       "Microsoft             USA  \n",
       "Dell Technologies     USA  \n",
       "Sony                Japan  "
      ]
     },
     "execution_count": 31,
     "metadata": {},
     "output_type": "execute_result"
    }
   ],
   "source": [
    "df.loc['Apple':'Sony':2, :]"
   ]
  },
  {
   "cell_type": "markdown",
   "id": "0473601d",
   "metadata": {},
   "source": [
    "iloc: Selecting by position\n",
    "`iloc[row_position, column_position]`"
   ]
  },
  {
   "cell_type": "code",
   "execution_count": 35,
   "id": "88332958",
   "metadata": {},
   "outputs": [
    {
     "data": {
      "text/plain": [
       "'Software Services'"
      ]
     },
     "execution_count": 35,
     "metadata": {},
     "output_type": "execute_result"
    }
   ],
   "source": [
    "df.iloc[4, 2]"
   ]
  },
  {
   "cell_type": "code",
   "execution_count": 36,
   "id": "0bea0075",
   "metadata": {},
   "outputs": [
    {
     "data": {
      "text/plain": [
       "Apple                274515\n",
       "Samsung              200734\n",
       "Alphabet             182527\n",
       "Foxconn              181945\n",
       "Microsoft            143015\n",
       "Huawei               129184\n",
       "Dell Technologies     92224\n",
       "Meta                  85965\n",
       "Sony                  84893\n",
       "Hitachi               82345\n",
       "Intel                 77867\n",
       "IBM                   73620\n",
       "Tencent               69864\n",
       "Panasonic             63191\n",
       "Name: Revenue, dtype: int64"
      ]
     },
     "execution_count": 36,
     "metadata": {},
     "output_type": "execute_result"
    }
   ],
   "source": [
    "df.iloc[:,0]"
   ]
  },
  {
   "cell_type": "code",
   "execution_count": 37,
   "id": "de285555",
   "metadata": {},
   "outputs": [
    {
     "data": {
      "text/plain": [
       "Revenue                        200734\n",
       "Employees                      267937\n",
       "Sector           Consumer Electronics\n",
       "Founding Date              13-01-1969\n",
       "Country                   South Korea\n",
       "Name: Samsung, dtype: object"
      ]
     },
     "execution_count": 37,
     "metadata": {},
     "output_type": "execute_result"
    }
   ],
   "source": [
    "df.iloc[1,:]"
   ]
  },
  {
   "cell_type": "code",
   "execution_count": 38,
   "id": "a0feae15",
   "metadata": {},
   "outputs": [
    {
     "data": {
      "text/plain": [
       "Apple      274515\n",
       "Samsung    200734\n",
       "Sony        84893\n",
       "Name: Revenue, dtype: int64"
      ]
     },
     "execution_count": 38,
     "metadata": {},
     "output_type": "execute_result"
    }
   ],
   "source": [
    "df.iloc[[0,1,8], 0]"
   ]
  },
  {
   "cell_type": "code",
   "execution_count": 39,
   "id": "9b216789",
   "metadata": {},
   "outputs": [
    {
     "data": {
      "text/plain": [
       "Employees    147000\n",
       "Country         USA\n",
       "Name: Apple, dtype: object"
      ]
     },
     "execution_count": 39,
     "metadata": {},
     "output_type": "execute_result"
    }
   ],
   "source": [
    "df.iloc[0, [1,4]]"
   ]
  },
  {
   "cell_type": "code",
   "execution_count": 41,
   "id": "02795796",
   "metadata": {},
   "outputs": [
    {
     "data": {
      "text/html": [
       "<div>\n",
       "<style scoped>\n",
       "    .dataframe tbody tr th:only-of-type {\n",
       "        vertical-align: middle;\n",
       "    }\n",
       "\n",
       "    .dataframe tbody tr th {\n",
       "        vertical-align: top;\n",
       "    }\n",
       "\n",
       "    .dataframe thead th {\n",
       "        text-align: right;\n",
       "    }\n",
       "</style>\n",
       "<table border=\"1\" class=\"dataframe\">\n",
       "  <thead>\n",
       "    <tr style=\"text-align: right;\">\n",
       "      <th></th>\n",
       "      <th>Revenue</th>\n",
       "      <th>Employees</th>\n",
       "      <th>Country</th>\n",
       "    </tr>\n",
       "  </thead>\n",
       "  <tbody>\n",
       "    <tr>\n",
       "      <th>Samsung</th>\n",
       "      <td>200734</td>\n",
       "      <td>267937</td>\n",
       "      <td>South Korea</td>\n",
       "    </tr>\n",
       "    <tr>\n",
       "      <th>Foxconn</th>\n",
       "      <td>181945</td>\n",
       "      <td>878429</td>\n",
       "      <td>Taiwan</td>\n",
       "    </tr>\n",
       "    <tr>\n",
       "      <th>Huawei</th>\n",
       "      <td>129184</td>\n",
       "      <td>197000</td>\n",
       "      <td>China</td>\n",
       "    </tr>\n",
       "  </tbody>\n",
       "</table>\n",
       "</div>"
      ],
      "text/plain": [
       "         Revenue  Employees      Country\n",
       "Samsung   200734     267937  South Korea\n",
       "Foxconn   181945     878429       Taiwan\n",
       "Huawei    129184     197000        China"
      ]
     },
     "execution_count": 41,
     "metadata": {},
     "output_type": "execute_result"
    }
   ],
   "source": [
    "position_selection = df.iloc[1:7:2,[0,1,4]]\n",
    "position_selection"
   ]
  }
 ],
 "metadata": {
  "kernelspec": {
   "display_name": "prp_class",
   "language": "python",
   "name": "prp_class"
  },
  "language_info": {
   "codemirror_mode": {
    "name": "ipython",
    "version": 3
   },
   "file_extension": ".py",
   "mimetype": "text/x-python",
   "name": "python",
   "nbconvert_exporter": "python",
   "pygments_lexer": "ipython3",
   "version": "3.12.7"
  }
 },
 "nbformat": 4,
 "nbformat_minor": 5
}
